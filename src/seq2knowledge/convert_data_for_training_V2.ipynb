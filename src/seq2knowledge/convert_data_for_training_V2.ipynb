{
 "cells": [
  {
   "cell_type": "code",
   "execution_count": 1,
   "metadata": {},
   "outputs": [],
   "source": [
    "import csv"
   ]
  },
  {
   "cell_type": "code",
   "execution_count": 2,
   "metadata": {},
   "outputs": [],
   "source": [
    "#data_base=\"data/object/\"\n",
    "#rfile_name=\"object_csv.csv\"\n",
    "#wfile_name=\"object_text.csv\"\n",
    "\n",
    "data_base=\"data/shape/\"\n",
    "rfile_name=\"all_train.csv\"\n",
    "wfile_name=\"all_train_v2.csv\""
   ]
  },
  {
   "cell_type": "code",
   "execution_count": 3,
   "metadata": {},
   "outputs": [],
   "source": [
    "with open(rfile_name) as rfile, open(wfile_name, 'w', newline='') as wfile:\n",
    "    csv_reader = csv.reader(rfile, delimiter=',')\n",
    "    csv_writer = csv.writer(wfile, delimiter=',', quotechar='\"', quoting=csv.QUOTE_MINIMAL)\n",
    "    line_count = 0\n",
    "    for row in csv_reader:\n",
    "        x=int(row[1])\n",
    "        y=int(row[2])\n",
    "        w=int(row[3])\n",
    "        h=int(row[4])\n",
    "        xmax=x+w\n",
    "        ymax=y+h\n",
    "        csv_writer.writerow([row[0],row[1],row[2],xmax,ymax,row[5]])"
   ]
  },
  {
   "cell_type": "code",
   "execution_count": null,
   "metadata": {},
   "outputs": [],
   "source": []
  }
 ],
 "metadata": {
  "kernelspec": {
   "display_name": "Python 3",
   "language": "python",
   "name": "python3"
  },
  "language_info": {
   "codemirror_mode": {
    "name": "ipython",
    "version": 3
   },
   "file_extension": ".py",
   "mimetype": "text/x-python",
   "name": "python",
   "nbconvert_exporter": "python",
   "pygments_lexer": "ipython3",
   "version": "3.6.8"
  }
 },
 "nbformat": 4,
 "nbformat_minor": 2
}
